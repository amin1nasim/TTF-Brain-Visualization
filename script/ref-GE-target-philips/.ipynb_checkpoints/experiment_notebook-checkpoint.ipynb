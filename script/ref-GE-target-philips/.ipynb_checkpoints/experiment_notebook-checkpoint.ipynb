{
 "cells": [
  {
   "cell_type": "code",
   "execution_count": 1,
   "id": "01ab7230",
   "metadata": {},
   "outputs": [
    {
     "name": "stdout",
     "output_type": "stream",
     "text": [
      "Random Seed:  999\n"
     ]
    },
    {
     "data": {
      "text/plain": [
       "<torch._C.Generator at 0x73a7f077df90>"
      ]
     },
     "execution_count": 1,
     "metadata": {},
     "output_type": "execute_result"
    }
   ],
   "source": [
    "import torch\n",
    "import torchvision.utils as vutils\n",
    "import torch.optim as optim\n",
    "import torchvision.transforms as transforms\n",
    "\n",
    "\n",
    "import nibabel as nib\n",
    "from torch.utils.tensorboard import SummaryWriter\n",
    "import random\n",
    "import numpy as np\n",
    "import matplotlib.pyplot as plt\n",
    "from PIL import Image\n",
    "import time\n",
    "import os\n",
    "from copy import deepcopy\n",
    "from math import floor\n",
    "import pickle\n",
    "\n",
    "import sys\n",
    "sys.path.append('../..')\n",
    "from utils.utilities import *\n",
    "from utils.losses import *\n",
    "from utils.import_export_slicer import *\n",
    "from modules.render import *\n",
    "\n",
    "np.seterr(divide='ignore', invalid='ignore')\n",
    "\n",
    "# Set random seed for reproducibility\n",
    "manualSeed = 999\n",
    "\n",
    "# Use if you want to get new results\n",
    "#manualSeed = random.randint(1, 10000)\n",
    "\n",
    "print(\"Random Seed: \", manualSeed)\n",
    "torch.manual_seed(manualSeed)"
   ]
  },
  {
   "cell_type": "code",
   "execution_count": 2,
   "id": "fdc51532",
   "metadata": {},
   "outputs": [
    {
     "name": "stdout",
     "output_type": "stream",
     "text": [
      "Cuda is available\n",
      "Number of GPUs: 1 ---> Not distributed\n",
      "Focal length: 138.89\n"
     ]
    }
   ],
   "source": [
    "# Setting device\n",
    "device = torch.device('cuda' if torch.cuda.is_available() else 'cpu')\n",
    "ngpu = torch.cuda.device_count()\n",
    "print('Cuda is available' if torch.cuda.is_available() else 'Cuda is not available')\n",
    "print('Number of GPUs: {} ---> {}'.format(ngpu, 'Distributed' if ngpu > 1 else 'Not distributed') )\n",
    "\n",
    "#---Camera Setting\n",
    "focal = 138.88887889922103\n",
    "print(\"Focal length: {0:.2f}\".format(focal))\n",
    "\n",
    "radius = 4.0311\n",
    "t_near = radius - np.sqrt(3)/2\n",
    "t_far = radius + np.sqrt(3)/2\n",
    "\n",
    "\n",
    "#---Camera Poistion for Tensorboard Images\n",
    "all_poses = look_at_sphere(32, radius=radius,\n",
    "                       target=torch.tensor([0., 0., 0.], device=device),\n",
    "                       up=torch.tensor([0., 0., 1.], device=device))[[2]].clone()\n",
    "peek_pose_2d = (0, torch.tensor(140, device=device))"
   ]
  },
  {
   "cell_type": "code",
   "execution_count": null,
   "id": "8a011b8a",
   "metadata": {},
   "outputs": [],
   "source": [
    "#---Reading Volumes\n",
    "### REFRENCE volume is the volume that we already have an approprite\n",
    "### transfer function for it to visulize its features of interest.\n",
    "\n",
    "### TARGET volume is the volume that we are trying to find an approprite\n",
    "### tansfer function for it based on the images of the reference volume. \n",
    "## TODO: CHANGE THE ADDRESS OF LOAD\n",
    "# Target volume (Philips) that is registered on reference (GE)\n",
    "target, rv_min, rv_max, grad_max = volume_loader('../../Brains/example-1/registered_on_ge_3_59_M/reg_philips_3_42_m.nii.gz',\n",
    "                                                               with_grad=True,\n",
    "                                                               bad_spacing=True,\n",
    "                                                               normalize_scalars=True)\n",
    "# Reference Volume (GE)\n",
    "ref, gt_rv_min, gt_rv_max, gt_grad_max = volume_loader('../../Brains/example-1/original/CC0305_ge_3_59_M.nii.gz',\n",
    "                              with_grad=True,\n",
    "                              bad_spacing=True,\n",
    "                              normalize_scalars=True)\n",
    "rvs = torch.cat([target, ref])\n"
   ]
  }
 ],
 "metadata": {
  "kernelspec": {
   "display_name": "Python 3 (ipykernel)",
   "language": "python",
   "name": "python3"
  },
  "language_info": {
   "codemirror_mode": {
    "name": "ipython",
    "version": 3
   },
   "file_extension": ".py",
   "mimetype": "text/x-python",
   "name": "python",
   "nbconvert_exporter": "python",
   "pygments_lexer": "ipython3",
   "version": "3.10.11"
  }
 },
 "nbformat": 4,
 "nbformat_minor": 5
}
